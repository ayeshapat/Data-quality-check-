{
  "nbformat": 4,
  "nbformat_minor": 0,
  "metadata": {
    "colab": {
      "provenance": []
    },
    "kernelspec": {
      "name": "python3",
      "display_name": "Python 3"
    },
    "language_info": {
      "name": "python"
    }
  },
  "cells": [
    {
      "cell_type": "markdown",
      "source": [
        "# **CHE-1148 ASSIGNMENT-4**"
      ],
      "metadata": {
        "id": "8M_iLtCdMptB"
      }
    },
    {
      "cell_type": "markdown",
      "source": [
        "## **2. Data and model drift**\n"
      ],
      "metadata": {
        "id": "QoLZgWkzMtcw"
      }
    },
    {
      "cell_type": "markdown",
      "source": [
        "**Importing relevant packages**"
      ],
      "metadata": {
        "id": "ly2_gRARgpP4"
      }
    },
    {
      "cell_type": "code",
      "execution_count": null,
      "metadata": {
        "id": "NmdB2cxHMcem"
      },
      "outputs": [],
      "source": [
        "import pandas as pd\n",
        "import numpy as np\n",
        "import matplotlib.pyplot as plt\n",
        "import seaborn as sns\n",
        "from scipy.stats import gamma\n",
        "from scipy.spatial import distance\n",
        "from sklearn.preprocessing import StandardScaler\n",
        "from sklearn.ensemble import RandomForestClassifier\n",
        "from sklearn.metrics import accuracy_score\n",
        "\n"
      ]
    },
    {
      "cell_type": "code",
      "source": [
        "import warnings\n",
        "warnings.filterwarnings(\"ignore\")"
      ],
      "metadata": {
        "id": "k1lonAcDnEXj"
      },
      "execution_count": null,
      "outputs": []
    },
    {
      "cell_type": "markdown",
      "source": [
        "**Importing monthly features**"
      ],
      "metadata": {
        "id": "EIZuMuCTh7YH"
      }
    },
    {
      "cell_type": "code",
      "source": [
        "mth_rolling_features = pd.read_excel(\"/content/mth rolling features latest.xlsx\")\n",
        "mth_day_cnt = pd.read_excel(\"/content/mth_day_counts.xlsx\")\n",
        "retail_data = pd.read_csv(\"/content/Retail_Data_Response-1.csv\")\n",
        "days_since_last_txn = pd.read_excel(\"/content/days_since_last_txn.xlsx\")"
      ],
      "metadata": {
        "id": "G2lQVEQqh-ZS"
      },
      "execution_count": null,
      "outputs": []
    },
    {
      "cell_type": "code",
      "source": [
        "#dropping the unnecesary column that was formed by reindexing in previous assignment\n",
        "mth_rolling_features.drop('Unnamed: 0',axis=1,inplace=True)\n",
        "mth_day_cnt.drop('Unnamed: 0',axis=1,inplace=True)\n",
        "days_since_last_txn.drop('Unnamed: 0',axis=1,inplace=True)"
      ],
      "metadata": {
        "id": "x9LMecGmleAn"
      },
      "execution_count": null,
      "outputs": []
    },
    {
      "cell_type": "code",
      "source": [
        "#Creating monthly table \n",
        "temp_table_2 = pd.merge(mth_rolling_features,mth_day_cnt, on = [\"CLNT_NO\",\"ME_DT\"]) #joining monthly_rolling_features and monthly_day-coint tables first\n",
        "temp_table_3=pd.merge(temp_table_2,days_since_last_txn, on = [\"CLNT_NO\",\"ME_DT\"]) #joining days_since_last_transcation table\n",
        "monthly_table = pd.merge(temp_table_3,retail_data, left_on=\"CLNT_NO\",right_on=\"customer_id\") #joining retail response table\n",
        "monthly_table #final required table for monthly data"
      ],
      "metadata": {
        "colab": {
          "base_uri": "https://localhost:8080/",
          "height": 653
        },
        "id": "_fq2A3-mmbxE",
        "outputId": "4ea43385-1cfd-4cf2-b594-882e97210582"
      },
      "execution_count": null,
      "outputs": [
        {
          "output_type": "execute_result",
          "data": {
            "text/plain": [
              "       CLNT_NO      ME_DT  mth_txn_amt_sum  mth_txn_cnt  amt_sum_3M  \\\n",
              "0       CS1112 2011-05-31               72            1           0   \n",
              "1       CS1112 2011-06-30               56            1           0   \n",
              "2       CS1112 2011-07-31               72            1         200   \n",
              "3       CS1112 2011-08-31               96            1         224   \n",
              "4       CS1112 2011-09-30               72            1         240   \n",
              "...        ...        ...              ...          ...         ...   \n",
              "323543  CS9000 2014-11-30               72            1         216   \n",
              "323544  CS9000 2014-12-31               72            1         216   \n",
              "323545  CS9000 2015-01-31               72            1         216   \n",
              "323546  CS9000 2015-02-28               34            1         178   \n",
              "323547  CS9000 2015-03-31               72            1         178   \n",
              "\n",
              "        amt_mean_3M  amt_max_3M  txn_cnt_sum_3M  txn_cnt_mean_3M  \\\n",
              "0          0.000000           0               0              0.0   \n",
              "1          0.000000           0               0              0.0   \n",
              "2         66.666667          72               3              1.0   \n",
              "3         74.666667          96               3              1.0   \n",
              "4         80.000000          96               3              1.0   \n",
              "...             ...         ...             ...              ...   \n",
              "323543    72.000000          72               3              1.0   \n",
              "323544    72.000000          72               3              1.0   \n",
              "323545    72.000000          72               3              1.0   \n",
              "323546    59.333333          72               3              1.0   \n",
              "323547    59.333333          72               3              1.0   \n",
              "\n",
              "        txn_cnt_max_3M  ...  cnt_Monday  cnt_Saturday  cnt_Sunday  \\\n",
              "0                    0  ...           0             0           0   \n",
              "1                    0  ...           0             0           0   \n",
              "2                    1  ...           0             0           0   \n",
              "3                    1  ...           0             0           0   \n",
              "4                    1  ...           0             0           0   \n",
              "...                ...  ...         ...           ...         ...   \n",
              "323543               1  ...           0             0           0   \n",
              "323544               1  ...           0             0           0   \n",
              "323545               1  ...           0             0           0   \n",
              "323546               1  ...           0             1           0   \n",
              "323547               1  ...           0             0           0   \n",
              "\n",
              "        cnt_Thursday  cnt_Tuesday  cnt_Wednesday  last_monthly_purchase  \\\n",
              "0                  0            0              0                      0   \n",
              "1                  0            0              1    2011-06-15 00:00:00   \n",
              "2                  0            0              0    2011-06-15 00:00:00   \n",
              "3                  0            0              0    2011-08-19 00:00:00   \n",
              "4                  0            0              0    2011-08-19 00:00:00   \n",
              "...              ...          ...            ...                    ...   \n",
              "323543             0            0              0    2014-08-24 00:00:00   \n",
              "323544             0            0              0    2014-08-24 00:00:00   \n",
              "323545             0            0              0    2014-08-24 00:00:00   \n",
              "323546             0            0              0    2015-02-28 00:00:00   \n",
              "323547             0            0              0    2015-02-28 00:00:00   \n",
              "\n",
              "        days_since_last_txn  customer_id  response  \n",
              "0                         0       CS1112         0  \n",
              "1                        15       CS1112         0  \n",
              "2                        46       CS1112         0  \n",
              "3                        12       CS1112         0  \n",
              "4                        42       CS1112         0  \n",
              "...                     ...          ...       ...  \n",
              "323543                   98       CS9000         0  \n",
              "323544                  129       CS9000         0  \n",
              "323545                  160       CS9000         0  \n",
              "323546                    0       CS9000         0  \n",
              "323547                   31       CS9000         0  \n",
              "\n",
              "[323548 rows x 33 columns]"
            ],
            "text/html": [
              "\n",
              "  <div id=\"df-635c0321-1d9c-4166-9a82-be9bd23ef914\">\n",
              "    <div class=\"colab-df-container\">\n",
              "      <div>\n",
              "<style scoped>\n",
              "    .dataframe tbody tr th:only-of-type {\n",
              "        vertical-align: middle;\n",
              "    }\n",
              "\n",
              "    .dataframe tbody tr th {\n",
              "        vertical-align: top;\n",
              "    }\n",
              "\n",
              "    .dataframe thead th {\n",
              "        text-align: right;\n",
              "    }\n",
              "</style>\n",
              "<table border=\"1\" class=\"dataframe\">\n",
              "  <thead>\n",
              "    <tr style=\"text-align: right;\">\n",
              "      <th></th>\n",
              "      <th>CLNT_NO</th>\n",
              "      <th>ME_DT</th>\n",
              "      <th>mth_txn_amt_sum</th>\n",
              "      <th>mth_txn_cnt</th>\n",
              "      <th>amt_sum_3M</th>\n",
              "      <th>amt_mean_3M</th>\n",
              "      <th>amt_max_3M</th>\n",
              "      <th>txn_cnt_sum_3M</th>\n",
              "      <th>txn_cnt_mean_3M</th>\n",
              "      <th>txn_cnt_max_3M</th>\n",
              "      <th>...</th>\n",
              "      <th>cnt_Monday</th>\n",
              "      <th>cnt_Saturday</th>\n",
              "      <th>cnt_Sunday</th>\n",
              "      <th>cnt_Thursday</th>\n",
              "      <th>cnt_Tuesday</th>\n",
              "      <th>cnt_Wednesday</th>\n",
              "      <th>last_monthly_purchase</th>\n",
              "      <th>days_since_last_txn</th>\n",
              "      <th>customer_id</th>\n",
              "      <th>response</th>\n",
              "    </tr>\n",
              "  </thead>\n",
              "  <tbody>\n",
              "    <tr>\n",
              "      <th>0</th>\n",
              "      <td>CS1112</td>\n",
              "      <td>2011-05-31</td>\n",
              "      <td>72</td>\n",
              "      <td>1</td>\n",
              "      <td>0</td>\n",
              "      <td>0.000000</td>\n",
              "      <td>0</td>\n",
              "      <td>0</td>\n",
              "      <td>0.0</td>\n",
              "      <td>0</td>\n",
              "      <td>...</td>\n",
              "      <td>0</td>\n",
              "      <td>0</td>\n",
              "      <td>0</td>\n",
              "      <td>0</td>\n",
              "      <td>0</td>\n",
              "      <td>0</td>\n",
              "      <td>0</td>\n",
              "      <td>0</td>\n",
              "      <td>CS1112</td>\n",
              "      <td>0</td>\n",
              "    </tr>\n",
              "    <tr>\n",
              "      <th>1</th>\n",
              "      <td>CS1112</td>\n",
              "      <td>2011-06-30</td>\n",
              "      <td>56</td>\n",
              "      <td>1</td>\n",
              "      <td>0</td>\n",
              "      <td>0.000000</td>\n",
              "      <td>0</td>\n",
              "      <td>0</td>\n",
              "      <td>0.0</td>\n",
              "      <td>0</td>\n",
              "      <td>...</td>\n",
              "      <td>0</td>\n",
              "      <td>0</td>\n",
              "      <td>0</td>\n",
              "      <td>0</td>\n",
              "      <td>0</td>\n",
              "      <td>1</td>\n",
              "      <td>2011-06-15 00:00:00</td>\n",
              "      <td>15</td>\n",
              "      <td>CS1112</td>\n",
              "      <td>0</td>\n",
              "    </tr>\n",
              "    <tr>\n",
              "      <th>2</th>\n",
              "      <td>CS1112</td>\n",
              "      <td>2011-07-31</td>\n",
              "      <td>72</td>\n",
              "      <td>1</td>\n",
              "      <td>200</td>\n",
              "      <td>66.666667</td>\n",
              "      <td>72</td>\n",
              "      <td>3</td>\n",
              "      <td>1.0</td>\n",
              "      <td>1</td>\n",
              "      <td>...</td>\n",
              "      <td>0</td>\n",
              "      <td>0</td>\n",
              "      <td>0</td>\n",
              "      <td>0</td>\n",
              "      <td>0</td>\n",
              "      <td>0</td>\n",
              "      <td>2011-06-15 00:00:00</td>\n",
              "      <td>46</td>\n",
              "      <td>CS1112</td>\n",
              "      <td>0</td>\n",
              "    </tr>\n",
              "    <tr>\n",
              "      <th>3</th>\n",
              "      <td>CS1112</td>\n",
              "      <td>2011-08-31</td>\n",
              "      <td>96</td>\n",
              "      <td>1</td>\n",
              "      <td>224</td>\n",
              "      <td>74.666667</td>\n",
              "      <td>96</td>\n",
              "      <td>3</td>\n",
              "      <td>1.0</td>\n",
              "      <td>1</td>\n",
              "      <td>...</td>\n",
              "      <td>0</td>\n",
              "      <td>0</td>\n",
              "      <td>0</td>\n",
              "      <td>0</td>\n",
              "      <td>0</td>\n",
              "      <td>0</td>\n",
              "      <td>2011-08-19 00:00:00</td>\n",
              "      <td>12</td>\n",
              "      <td>CS1112</td>\n",
              "      <td>0</td>\n",
              "    </tr>\n",
              "    <tr>\n",
              "      <th>4</th>\n",
              "      <td>CS1112</td>\n",
              "      <td>2011-09-30</td>\n",
              "      <td>72</td>\n",
              "      <td>1</td>\n",
              "      <td>240</td>\n",
              "      <td>80.000000</td>\n",
              "      <td>96</td>\n",
              "      <td>3</td>\n",
              "      <td>1.0</td>\n",
              "      <td>1</td>\n",
              "      <td>...</td>\n",
              "      <td>0</td>\n",
              "      <td>0</td>\n",
              "      <td>0</td>\n",
              "      <td>0</td>\n",
              "      <td>0</td>\n",
              "      <td>0</td>\n",
              "      <td>2011-08-19 00:00:00</td>\n",
              "      <td>42</td>\n",
              "      <td>CS1112</td>\n",
              "      <td>0</td>\n",
              "    </tr>\n",
              "    <tr>\n",
              "      <th>...</th>\n",
              "      <td>...</td>\n",
              "      <td>...</td>\n",
              "      <td>...</td>\n",
              "      <td>...</td>\n",
              "      <td>...</td>\n",
              "      <td>...</td>\n",
              "      <td>...</td>\n",
              "      <td>...</td>\n",
              "      <td>...</td>\n",
              "      <td>...</td>\n",
              "      <td>...</td>\n",
              "      <td>...</td>\n",
              "      <td>...</td>\n",
              "      <td>...</td>\n",
              "      <td>...</td>\n",
              "      <td>...</td>\n",
              "      <td>...</td>\n",
              "      <td>...</td>\n",
              "      <td>...</td>\n",
              "      <td>...</td>\n",
              "      <td>...</td>\n",
              "    </tr>\n",
              "    <tr>\n",
              "      <th>323543</th>\n",
              "      <td>CS9000</td>\n",
              "      <td>2014-11-30</td>\n",
              "      <td>72</td>\n",
              "      <td>1</td>\n",
              "      <td>216</td>\n",
              "      <td>72.000000</td>\n",
              "      <td>72</td>\n",
              "      <td>3</td>\n",
              "      <td>1.0</td>\n",
              "      <td>1</td>\n",
              "      <td>...</td>\n",
              "      <td>0</td>\n",
              "      <td>0</td>\n",
              "      <td>0</td>\n",
              "      <td>0</td>\n",
              "      <td>0</td>\n",
              "      <td>0</td>\n",
              "      <td>2014-08-24 00:00:00</td>\n",
              "      <td>98</td>\n",
              "      <td>CS9000</td>\n",
              "      <td>0</td>\n",
              "    </tr>\n",
              "    <tr>\n",
              "      <th>323544</th>\n",
              "      <td>CS9000</td>\n",
              "      <td>2014-12-31</td>\n",
              "      <td>72</td>\n",
              "      <td>1</td>\n",
              "      <td>216</td>\n",
              "      <td>72.000000</td>\n",
              "      <td>72</td>\n",
              "      <td>3</td>\n",
              "      <td>1.0</td>\n",
              "      <td>1</td>\n",
              "      <td>...</td>\n",
              "      <td>0</td>\n",
              "      <td>0</td>\n",
              "      <td>0</td>\n",
              "      <td>0</td>\n",
              "      <td>0</td>\n",
              "      <td>0</td>\n",
              "      <td>2014-08-24 00:00:00</td>\n",
              "      <td>129</td>\n",
              "      <td>CS9000</td>\n",
              "      <td>0</td>\n",
              "    </tr>\n",
              "    <tr>\n",
              "      <th>323545</th>\n",
              "      <td>CS9000</td>\n",
              "      <td>2015-01-31</td>\n",
              "      <td>72</td>\n",
              "      <td>1</td>\n",
              "      <td>216</td>\n",
              "      <td>72.000000</td>\n",
              "      <td>72</td>\n",
              "      <td>3</td>\n",
              "      <td>1.0</td>\n",
              "      <td>1</td>\n",
              "      <td>...</td>\n",
              "      <td>0</td>\n",
              "      <td>0</td>\n",
              "      <td>0</td>\n",
              "      <td>0</td>\n",
              "      <td>0</td>\n",
              "      <td>0</td>\n",
              "      <td>2014-08-24 00:00:00</td>\n",
              "      <td>160</td>\n",
              "      <td>CS9000</td>\n",
              "      <td>0</td>\n",
              "    </tr>\n",
              "    <tr>\n",
              "      <th>323546</th>\n",
              "      <td>CS9000</td>\n",
              "      <td>2015-02-28</td>\n",
              "      <td>34</td>\n",
              "      <td>1</td>\n",
              "      <td>178</td>\n",
              "      <td>59.333333</td>\n",
              "      <td>72</td>\n",
              "      <td>3</td>\n",
              "      <td>1.0</td>\n",
              "      <td>1</td>\n",
              "      <td>...</td>\n",
              "      <td>0</td>\n",
              "      <td>1</td>\n",
              "      <td>0</td>\n",
              "      <td>0</td>\n",
              "      <td>0</td>\n",
              "      <td>0</td>\n",
              "      <td>2015-02-28 00:00:00</td>\n",
              "      <td>0</td>\n",
              "      <td>CS9000</td>\n",
              "      <td>0</td>\n",
              "    </tr>\n",
              "    <tr>\n",
              "      <th>323547</th>\n",
              "      <td>CS9000</td>\n",
              "      <td>2015-03-31</td>\n",
              "      <td>72</td>\n",
              "      <td>1</td>\n",
              "      <td>178</td>\n",
              "      <td>59.333333</td>\n",
              "      <td>72</td>\n",
              "      <td>3</td>\n",
              "      <td>1.0</td>\n",
              "      <td>1</td>\n",
              "      <td>...</td>\n",
              "      <td>0</td>\n",
              "      <td>0</td>\n",
              "      <td>0</td>\n",
              "      <td>0</td>\n",
              "      <td>0</td>\n",
              "      <td>0</td>\n",
              "      <td>2015-02-28 00:00:00</td>\n",
              "      <td>31</td>\n",
              "      <td>CS9000</td>\n",
              "      <td>0</td>\n",
              "    </tr>\n",
              "  </tbody>\n",
              "</table>\n",
              "<p>323548 rows × 33 columns</p>\n",
              "</div>\n",
              "      <button class=\"colab-df-convert\" onclick=\"convertToInteractive('df-635c0321-1d9c-4166-9a82-be9bd23ef914')\"\n",
              "              title=\"Convert this dataframe to an interactive table.\"\n",
              "              style=\"display:none;\">\n",
              "        \n",
              "  <svg xmlns=\"http://www.w3.org/2000/svg\" height=\"24px\"viewBox=\"0 0 24 24\"\n",
              "       width=\"24px\">\n",
              "    <path d=\"M0 0h24v24H0V0z\" fill=\"none\"/>\n",
              "    <path d=\"M18.56 5.44l.94 2.06.94-2.06 2.06-.94-2.06-.94-.94-2.06-.94 2.06-2.06.94zm-11 1L8.5 8.5l.94-2.06 2.06-.94-2.06-.94L8.5 2.5l-.94 2.06-2.06.94zm10 10l.94 2.06.94-2.06 2.06-.94-2.06-.94-.94-2.06-.94 2.06-2.06.94z\"/><path d=\"M17.41 7.96l-1.37-1.37c-.4-.4-.92-.59-1.43-.59-.52 0-1.04.2-1.43.59L10.3 9.45l-7.72 7.72c-.78.78-.78 2.05 0 2.83L4 21.41c.39.39.9.59 1.41.59.51 0 1.02-.2 1.41-.59l7.78-7.78 2.81-2.81c.8-.78.8-2.07 0-2.86zM5.41 20L4 18.59l7.72-7.72 1.47 1.35L5.41 20z\"/>\n",
              "  </svg>\n",
              "      </button>\n",
              "      \n",
              "  <style>\n",
              "    .colab-df-container {\n",
              "      display:flex;\n",
              "      flex-wrap:wrap;\n",
              "      gap: 12px;\n",
              "    }\n",
              "\n",
              "    .colab-df-convert {\n",
              "      background-color: #E8F0FE;\n",
              "      border: none;\n",
              "      border-radius: 50%;\n",
              "      cursor: pointer;\n",
              "      display: none;\n",
              "      fill: #1967D2;\n",
              "      height: 32px;\n",
              "      padding: 0 0 0 0;\n",
              "      width: 32px;\n",
              "    }\n",
              "\n",
              "    .colab-df-convert:hover {\n",
              "      background-color: #E2EBFA;\n",
              "      box-shadow: 0px 1px 2px rgba(60, 64, 67, 0.3), 0px 1px 3px 1px rgba(60, 64, 67, 0.15);\n",
              "      fill: #174EA6;\n",
              "    }\n",
              "\n",
              "    [theme=dark] .colab-df-convert {\n",
              "      background-color: #3B4455;\n",
              "      fill: #D2E3FC;\n",
              "    }\n",
              "\n",
              "    [theme=dark] .colab-df-convert:hover {\n",
              "      background-color: #434B5C;\n",
              "      box-shadow: 0px 1px 3px 1px rgba(0, 0, 0, 0.15);\n",
              "      filter: drop-shadow(0px 1px 2px rgba(0, 0, 0, 0.3));\n",
              "      fill: #FFFFFF;\n",
              "    }\n",
              "  </style>\n",
              "\n",
              "      <script>\n",
              "        const buttonEl =\n",
              "          document.querySelector('#df-635c0321-1d9c-4166-9a82-be9bd23ef914 button.colab-df-convert');\n",
              "        buttonEl.style.display =\n",
              "          google.colab.kernel.accessAllowed ? 'block' : 'none';\n",
              "\n",
              "        async function convertToInteractive(key) {\n",
              "          const element = document.querySelector('#df-635c0321-1d9c-4166-9a82-be9bd23ef914');\n",
              "          const dataTable =\n",
              "            await google.colab.kernel.invokeFunction('convertToInteractive',\n",
              "                                                     [key], {});\n",
              "          if (!dataTable) return;\n",
              "\n",
              "          const docLinkHtml = 'Like what you see? Visit the ' +\n",
              "            '<a target=\"_blank\" href=https://colab.research.google.com/notebooks/data_table.ipynb>data table notebook</a>'\n",
              "            + ' to learn more about interactive tables.';\n",
              "          element.innerHTML = '';\n",
              "          dataTable['output_type'] = 'display_data';\n",
              "          await google.colab.output.renderOutput(dataTable, element);\n",
              "          const docLink = document.createElement('div');\n",
              "          docLink.innerHTML = docLinkHtml;\n",
              "          element.appendChild(docLink);\n",
              "        }\n",
              "      </script>\n",
              "    </div>\n",
              "  </div>\n",
              "  "
            ]
          },
          "metadata": {},
          "execution_count": 5
        }
      ]
    },
    {
      "cell_type": "markdown",
      "source": [
        "**Preparing train and test set**"
      ],
      "metadata": {
        "id": "QnC-8_uKn7Nx"
      }
    },
    {
      "cell_type": "markdown",
      "source": [
        "As per the given instructions, the training set should include  all the data prior to Dec-2013 (inclusively) and the test data is all data after Jan-2014 (inclusively). We split the main dataframe according to this conditions."
      ],
      "metadata": {
        "id": "-zdA2xw_oSYt"
      }
    },
    {
      "cell_type": "code",
      "source": [
        "#dropping CLNT_NO and customer_id column as it's not required to train our model\n",
        "monthly_table.drop([\"CLNT_NO\",\"last_monthly_purchase\",\"customer_id\"], axis=1, inplace=True)"
      ],
      "metadata": {
        "id": "ZRzGqXVyquXh"
      },
      "execution_count": null,
      "outputs": []
    },
    {
      "cell_type": "code",
      "source": [
        "#sorting dataframe based on date\n",
        "monthly_table.sort_values(by=\"ME_DT\",inplace=True)\n",
        "\n",
        "#resetting the index\n",
        "monthly_table.reset_index(drop=True, inplace=True)"
      ],
      "metadata": {
        "id": "a18OMWy_pYuI"
      },
      "execution_count": null,
      "outputs": []
    },
    {
      "cell_type": "code",
      "source": [
        "#train set \n",
        "train_set = monthly_table.loc[monthly_table[\"ME_DT\"] <= '2013-12-31']\n",
        "test_set = monthly_table.loc[monthly_table[\"ME_DT\"] >= '2014-1-1']"
      ],
      "metadata": {
        "id": "gJOk_wI9vEPV"
      },
      "execution_count": null,
      "outputs": []
    },
    {
      "cell_type": "code",
      "source": [
        "#resetting the test_set index\n",
        "test_set.reset_index(drop=True, inplace=True)\n",
        "test_set"
      ],
      "metadata": {
        "colab": {
          "base_uri": "https://localhost:8080/",
          "height": 653
        },
        "id": "jMwpCOL4qvMT",
        "outputId": "674fd0f7-b38e-4d5c-b2c3-0a11cdd798a6"
      },
      "execution_count": null,
      "outputs": [
        {
          "output_type": "execute_result",
          "data": {
            "text/plain": [
              "            ME_DT  mth_txn_amt_sum  mth_txn_cnt  amt_sum_3M  amt_mean_3M  \\\n",
              "0      2014-01-31               72            1         348   116.000000   \n",
              "1      2014-01-31               76            1         210    70.000000   \n",
              "2      2014-01-31               72            1         183    61.000000   \n",
              "3      2014-01-31               72            1         216    72.000000   \n",
              "4      2014-01-31               72            1         210    70.000000   \n",
              "...           ...              ...          ...         ...          ...   \n",
              "103255 2015-03-31               72            1         216    72.000000   \n",
              "103256 2015-03-31               72            1         270    90.000000   \n",
              "103257 2015-03-31               72            1         216    72.000000   \n",
              "103258 2015-03-31               72            1         232    77.333333   \n",
              "103259 2015-03-31               72            1         178    59.333333   \n",
              "\n",
              "        amt_max_3M  txn_cnt_sum_3M  txn_cnt_mean_3M  txn_cnt_max_3M  \\\n",
              "0              204               4         1.333333               2   \n",
              "1               76               3         1.000000               1   \n",
              "2               72               3         1.000000               1   \n",
              "3               72               3         1.000000               1   \n",
              "4               72               4         1.333333               2   \n",
              "...            ...             ...              ...             ...   \n",
              "103255          72               3         1.000000               1   \n",
              "103256         122               4         1.333333               2   \n",
              "103257          72               3         1.000000               1   \n",
              "103258          88               3         1.000000               1   \n",
              "103259          72               3         1.000000               1   \n",
              "\n",
              "        amt_sum_6M  ...  txn_cnt_max_12M  cnt_Friday  cnt_Monday  \\\n",
              "0              579  ...                2           0           0   \n",
              "1              516  ...                2           0           0   \n",
              "2              353  ...                1           0           0   \n",
              "3              437  ...                1           0           0   \n",
              "4              374  ...                2           0           0   \n",
              "...            ...  ...              ...         ...         ...   \n",
              "103255         447  ...                1           0           0   \n",
              "103256         509  ...                3           0           0   \n",
              "103257         432  ...                2           0           0   \n",
              "103258         448  ...                1           0           0   \n",
              "103259         394  ...                1           0           0   \n",
              "\n",
              "        cnt_Saturday  cnt_Sunday  cnt_Thursday  cnt_Tuesday  cnt_Wednesday  \\\n",
              "0                  0           0             0            0              0   \n",
              "1                  1           0             0            0              0   \n",
              "2                  0           0             0            0              0   \n",
              "3                  0           0             0            0              0   \n",
              "4                  0           0             0            0              0   \n",
              "...              ...         ...           ...          ...            ...   \n",
              "103255             0           0             0            0              0   \n",
              "103256             0           0             0            0              0   \n",
              "103257             0           0             0            0              0   \n",
              "103258             0           0             0            0              0   \n",
              "103259             0           0             0            0              0   \n",
              "\n",
              "        days_since_last_txn  response  \n",
              "0                        35         0  \n",
              "1                        13         0  \n",
              "2                        88         0  \n",
              "3                       178         0  \n",
              "4                        32         0  \n",
              "...                     ...       ...  \n",
              "103255                   95         0  \n",
              "103256                   58         0  \n",
              "103257                  207         0  \n",
              "103258                   34         0  \n",
              "103259                   31         0  \n",
              "\n",
              "[103260 rows x 30 columns]"
            ],
            "text/html": [
              "\n",
              "  <div id=\"df-9e837109-d08e-4a8a-b5f7-4e25279fab07\">\n",
              "    <div class=\"colab-df-container\">\n",
              "      <div>\n",
              "<style scoped>\n",
              "    .dataframe tbody tr th:only-of-type {\n",
              "        vertical-align: middle;\n",
              "    }\n",
              "\n",
              "    .dataframe tbody tr th {\n",
              "        vertical-align: top;\n",
              "    }\n",
              "\n",
              "    .dataframe thead th {\n",
              "        text-align: right;\n",
              "    }\n",
              "</style>\n",
              "<table border=\"1\" class=\"dataframe\">\n",
              "  <thead>\n",
              "    <tr style=\"text-align: right;\">\n",
              "      <th></th>\n",
              "      <th>ME_DT</th>\n",
              "      <th>mth_txn_amt_sum</th>\n",
              "      <th>mth_txn_cnt</th>\n",
              "      <th>amt_sum_3M</th>\n",
              "      <th>amt_mean_3M</th>\n",
              "      <th>amt_max_3M</th>\n",
              "      <th>txn_cnt_sum_3M</th>\n",
              "      <th>txn_cnt_mean_3M</th>\n",
              "      <th>txn_cnt_max_3M</th>\n",
              "      <th>amt_sum_6M</th>\n",
              "      <th>...</th>\n",
              "      <th>txn_cnt_max_12M</th>\n",
              "      <th>cnt_Friday</th>\n",
              "      <th>cnt_Monday</th>\n",
              "      <th>cnt_Saturday</th>\n",
              "      <th>cnt_Sunday</th>\n",
              "      <th>cnt_Thursday</th>\n",
              "      <th>cnt_Tuesday</th>\n",
              "      <th>cnt_Wednesday</th>\n",
              "      <th>days_since_last_txn</th>\n",
              "      <th>response</th>\n",
              "    </tr>\n",
              "  </thead>\n",
              "  <tbody>\n",
              "    <tr>\n",
              "      <th>0</th>\n",
              "      <td>2014-01-31</td>\n",
              "      <td>72</td>\n",
              "      <td>1</td>\n",
              "      <td>348</td>\n",
              "      <td>116.000000</td>\n",
              "      <td>204</td>\n",
              "      <td>4</td>\n",
              "      <td>1.333333</td>\n",
              "      <td>2</td>\n",
              "      <td>579</td>\n",
              "      <td>...</td>\n",
              "      <td>2</td>\n",
              "      <td>0</td>\n",
              "      <td>0</td>\n",
              "      <td>0</td>\n",
              "      <td>0</td>\n",
              "      <td>0</td>\n",
              "      <td>0</td>\n",
              "      <td>0</td>\n",
              "      <td>35</td>\n",
              "      <td>0</td>\n",
              "    </tr>\n",
              "    <tr>\n",
              "      <th>1</th>\n",
              "      <td>2014-01-31</td>\n",
              "      <td>76</td>\n",
              "      <td>1</td>\n",
              "      <td>210</td>\n",
              "      <td>70.000000</td>\n",
              "      <td>76</td>\n",
              "      <td>3</td>\n",
              "      <td>1.000000</td>\n",
              "      <td>1</td>\n",
              "      <td>516</td>\n",
              "      <td>...</td>\n",
              "      <td>2</td>\n",
              "      <td>0</td>\n",
              "      <td>0</td>\n",
              "      <td>1</td>\n",
              "      <td>0</td>\n",
              "      <td>0</td>\n",
              "      <td>0</td>\n",
              "      <td>0</td>\n",
              "      <td>13</td>\n",
              "      <td>0</td>\n",
              "    </tr>\n",
              "    <tr>\n",
              "      <th>2</th>\n",
              "      <td>2014-01-31</td>\n",
              "      <td>72</td>\n",
              "      <td>1</td>\n",
              "      <td>183</td>\n",
              "      <td>61.000000</td>\n",
              "      <td>72</td>\n",
              "      <td>3</td>\n",
              "      <td>1.000000</td>\n",
              "      <td>1</td>\n",
              "      <td>353</td>\n",
              "      <td>...</td>\n",
              "      <td>1</td>\n",
              "      <td>0</td>\n",
              "      <td>0</td>\n",
              "      <td>0</td>\n",
              "      <td>0</td>\n",
              "      <td>0</td>\n",
              "      <td>0</td>\n",
              "      <td>0</td>\n",
              "      <td>88</td>\n",
              "      <td>0</td>\n",
              "    </tr>\n",
              "    <tr>\n",
              "      <th>3</th>\n",
              "      <td>2014-01-31</td>\n",
              "      <td>72</td>\n",
              "      <td>1</td>\n",
              "      <td>216</td>\n",
              "      <td>72.000000</td>\n",
              "      <td>72</td>\n",
              "      <td>3</td>\n",
              "      <td>1.000000</td>\n",
              "      <td>1</td>\n",
              "      <td>437</td>\n",
              "      <td>...</td>\n",
              "      <td>1</td>\n",
              "      <td>0</td>\n",
              "      <td>0</td>\n",
              "      <td>0</td>\n",
              "      <td>0</td>\n",
              "      <td>0</td>\n",
              "      <td>0</td>\n",
              "      <td>0</td>\n",
              "      <td>178</td>\n",
              "      <td>0</td>\n",
              "    </tr>\n",
              "    <tr>\n",
              "      <th>4</th>\n",
              "      <td>2014-01-31</td>\n",
              "      <td>72</td>\n",
              "      <td>1</td>\n",
              "      <td>210</td>\n",
              "      <td>70.000000</td>\n",
              "      <td>72</td>\n",
              "      <td>4</td>\n",
              "      <td>1.333333</td>\n",
              "      <td>2</td>\n",
              "      <td>374</td>\n",
              "      <td>...</td>\n",
              "      <td>2</td>\n",
              "      <td>0</td>\n",
              "      <td>0</td>\n",
              "      <td>0</td>\n",
              "      <td>0</td>\n",
              "      <td>0</td>\n",
              "      <td>0</td>\n",
              "      <td>0</td>\n",
              "      <td>32</td>\n",
              "      <td>0</td>\n",
              "    </tr>\n",
              "    <tr>\n",
              "      <th>...</th>\n",
              "      <td>...</td>\n",
              "      <td>...</td>\n",
              "      <td>...</td>\n",
              "      <td>...</td>\n",
              "      <td>...</td>\n",
              "      <td>...</td>\n",
              "      <td>...</td>\n",
              "      <td>...</td>\n",
              "      <td>...</td>\n",
              "      <td>...</td>\n",
              "      <td>...</td>\n",
              "      <td>...</td>\n",
              "      <td>...</td>\n",
              "      <td>...</td>\n",
              "      <td>...</td>\n",
              "      <td>...</td>\n",
              "      <td>...</td>\n",
              "      <td>...</td>\n",
              "      <td>...</td>\n",
              "      <td>...</td>\n",
              "      <td>...</td>\n",
              "    </tr>\n",
              "    <tr>\n",
              "      <th>103255</th>\n",
              "      <td>2015-03-31</td>\n",
              "      <td>72</td>\n",
              "      <td>1</td>\n",
              "      <td>216</td>\n",
              "      <td>72.000000</td>\n",
              "      <td>72</td>\n",
              "      <td>3</td>\n",
              "      <td>1.000000</td>\n",
              "      <td>1</td>\n",
              "      <td>447</td>\n",
              "      <td>...</td>\n",
              "      <td>1</td>\n",
              "      <td>0</td>\n",
              "      <td>0</td>\n",
              "      <td>0</td>\n",
              "      <td>0</td>\n",
              "      <td>0</td>\n",
              "      <td>0</td>\n",
              "      <td>0</td>\n",
              "      <td>95</td>\n",
              "      <td>0</td>\n",
              "    </tr>\n",
              "    <tr>\n",
              "      <th>103256</th>\n",
              "      <td>2015-03-31</td>\n",
              "      <td>72</td>\n",
              "      <td>1</td>\n",
              "      <td>270</td>\n",
              "      <td>90.000000</td>\n",
              "      <td>122</td>\n",
              "      <td>4</td>\n",
              "      <td>1.333333</td>\n",
              "      <td>2</td>\n",
              "      <td>509</td>\n",
              "      <td>...</td>\n",
              "      <td>3</td>\n",
              "      <td>0</td>\n",
              "      <td>0</td>\n",
              "      <td>0</td>\n",
              "      <td>0</td>\n",
              "      <td>0</td>\n",
              "      <td>0</td>\n",
              "      <td>0</td>\n",
              "      <td>58</td>\n",
              "      <td>0</td>\n",
              "    </tr>\n",
              "    <tr>\n",
              "      <th>103257</th>\n",
              "      <td>2015-03-31</td>\n",
              "      <td>72</td>\n",
              "      <td>1</td>\n",
              "      <td>216</td>\n",
              "      <td>72.000000</td>\n",
              "      <td>72</td>\n",
              "      <td>3</td>\n",
              "      <td>1.000000</td>\n",
              "      <td>1</td>\n",
              "      <td>432</td>\n",
              "      <td>...</td>\n",
              "      <td>2</td>\n",
              "      <td>0</td>\n",
              "      <td>0</td>\n",
              "      <td>0</td>\n",
              "      <td>0</td>\n",
              "      <td>0</td>\n",
              "      <td>0</td>\n",
              "      <td>0</td>\n",
              "      <td>207</td>\n",
              "      <td>0</td>\n",
              "    </tr>\n",
              "    <tr>\n",
              "      <th>103258</th>\n",
              "      <td>2015-03-31</td>\n",
              "      <td>72</td>\n",
              "      <td>1</td>\n",
              "      <td>232</td>\n",
              "      <td>77.333333</td>\n",
              "      <td>88</td>\n",
              "      <td>3</td>\n",
              "      <td>1.000000</td>\n",
              "      <td>1</td>\n",
              "      <td>448</td>\n",
              "      <td>...</td>\n",
              "      <td>1</td>\n",
              "      <td>0</td>\n",
              "      <td>0</td>\n",
              "      <td>0</td>\n",
              "      <td>0</td>\n",
              "      <td>0</td>\n",
              "      <td>0</td>\n",
              "      <td>0</td>\n",
              "      <td>34</td>\n",
              "      <td>0</td>\n",
              "    </tr>\n",
              "    <tr>\n",
              "      <th>103259</th>\n",
              "      <td>2015-03-31</td>\n",
              "      <td>72</td>\n",
              "      <td>1</td>\n",
              "      <td>178</td>\n",
              "      <td>59.333333</td>\n",
              "      <td>72</td>\n",
              "      <td>3</td>\n",
              "      <td>1.000000</td>\n",
              "      <td>1</td>\n",
              "      <td>394</td>\n",
              "      <td>...</td>\n",
              "      <td>1</td>\n",
              "      <td>0</td>\n",
              "      <td>0</td>\n",
              "      <td>0</td>\n",
              "      <td>0</td>\n",
              "      <td>0</td>\n",
              "      <td>0</td>\n",
              "      <td>0</td>\n",
              "      <td>31</td>\n",
              "      <td>0</td>\n",
              "    </tr>\n",
              "  </tbody>\n",
              "</table>\n",
              "<p>103260 rows × 30 columns</p>\n",
              "</div>\n",
              "      <button class=\"colab-df-convert\" onclick=\"convertToInteractive('df-9e837109-d08e-4a8a-b5f7-4e25279fab07')\"\n",
              "              title=\"Convert this dataframe to an interactive table.\"\n",
              "              style=\"display:none;\">\n",
              "        \n",
              "  <svg xmlns=\"http://www.w3.org/2000/svg\" height=\"24px\"viewBox=\"0 0 24 24\"\n",
              "       width=\"24px\">\n",
              "    <path d=\"M0 0h24v24H0V0z\" fill=\"none\"/>\n",
              "    <path d=\"M18.56 5.44l.94 2.06.94-2.06 2.06-.94-2.06-.94-.94-2.06-.94 2.06-2.06.94zm-11 1L8.5 8.5l.94-2.06 2.06-.94-2.06-.94L8.5 2.5l-.94 2.06-2.06.94zm10 10l.94 2.06.94-2.06 2.06-.94-2.06-.94-.94-2.06-.94 2.06-2.06.94z\"/><path d=\"M17.41 7.96l-1.37-1.37c-.4-.4-.92-.59-1.43-.59-.52 0-1.04.2-1.43.59L10.3 9.45l-7.72 7.72c-.78.78-.78 2.05 0 2.83L4 21.41c.39.39.9.59 1.41.59.51 0 1.02-.2 1.41-.59l7.78-7.78 2.81-2.81c.8-.78.8-2.07 0-2.86zM5.41 20L4 18.59l7.72-7.72 1.47 1.35L5.41 20z\"/>\n",
              "  </svg>\n",
              "      </button>\n",
              "      \n",
              "  <style>\n",
              "    .colab-df-container {\n",
              "      display:flex;\n",
              "      flex-wrap:wrap;\n",
              "      gap: 12px;\n",
              "    }\n",
              "\n",
              "    .colab-df-convert {\n",
              "      background-color: #E8F0FE;\n",
              "      border: none;\n",
              "      border-radius: 50%;\n",
              "      cursor: pointer;\n",
              "      display: none;\n",
              "      fill: #1967D2;\n",
              "      height: 32px;\n",
              "      padding: 0 0 0 0;\n",
              "      width: 32px;\n",
              "    }\n",
              "\n",
              "    .colab-df-convert:hover {\n",
              "      background-color: #E2EBFA;\n",
              "      box-shadow: 0px 1px 2px rgba(60, 64, 67, 0.3), 0px 1px 3px 1px rgba(60, 64, 67, 0.15);\n",
              "      fill: #174EA6;\n",
              "    }\n",
              "\n",
              "    [theme=dark] .colab-df-convert {\n",
              "      background-color: #3B4455;\n",
              "      fill: #D2E3FC;\n",
              "    }\n",
              "\n",
              "    [theme=dark] .colab-df-convert:hover {\n",
              "      background-color: #434B5C;\n",
              "      box-shadow: 0px 1px 3px 1px rgba(0, 0, 0, 0.15);\n",
              "      filter: drop-shadow(0px 1px 2px rgba(0, 0, 0, 0.3));\n",
              "      fill: #FFFFFF;\n",
              "    }\n",
              "  </style>\n",
              "\n",
              "      <script>\n",
              "        const buttonEl =\n",
              "          document.querySelector('#df-9e837109-d08e-4a8a-b5f7-4e25279fab07 button.colab-df-convert');\n",
              "        buttonEl.style.display =\n",
              "          google.colab.kernel.accessAllowed ? 'block' : 'none';\n",
              "\n",
              "        async function convertToInteractive(key) {\n",
              "          const element = document.querySelector('#df-9e837109-d08e-4a8a-b5f7-4e25279fab07');\n",
              "          const dataTable =\n",
              "            await google.colab.kernel.invokeFunction('convertToInteractive',\n",
              "                                                     [key], {});\n",
              "          if (!dataTable) return;\n",
              "\n",
              "          const docLinkHtml = 'Like what you see? Visit the ' +\n",
              "            '<a target=\"_blank\" href=https://colab.research.google.com/notebooks/data_table.ipynb>data table notebook</a>'\n",
              "            + ' to learn more about interactive tables.';\n",
              "          element.innerHTML = '';\n",
              "          dataTable['output_type'] = 'display_data';\n",
              "          await google.colab.output.renderOutput(dataTable, element);\n",
              "          const docLink = document.createElement('div');\n",
              "          docLink.innerHTML = docLinkHtml;\n",
              "          element.appendChild(docLink);\n",
              "        }\n",
              "      </script>\n",
              "    </div>\n",
              "  </div>\n",
              "  "
            ]
          },
          "metadata": {},
          "execution_count": 9
        }
      ]
    },
    {
      "cell_type": "code",
      "source": [
        "#saving indices of unique months for using it later during plotting the dashboard\n",
        "train_unique_dates = train_set[\"ME_DT\"].unique()\n",
        "test_unique_dates = test_set[\"ME_DT\"].unique()\n",
        "train_indices = []\n",
        "test_indices = []\n",
        "\n",
        "#train\n",
        "for i in range(len(train_unique_dates)):\n",
        "  train_indices.append(train_set[train_set[\"ME_DT\"]== train_unique_dates[i]].index.values)\n",
        "print(train_indices)\n",
        "\n",
        "#test\n",
        "for i in range(len(test_unique_dates)):\n",
        "  test_indices.append(test_set[test_set[\"ME_DT\"]== test_unique_dates[i]].index.values)\n",
        "print(test_indices)\n"
      ],
      "metadata": {
        "colab": {
          "base_uri": "https://localhost:8080/"
        },
        "id": "n0aJ8kZ7a2nL",
        "outputId": "a894d059-fb92-4259-a563-5ce25b31e833"
      },
      "execution_count": null,
      "outputs": [
        {
          "output_type": "stream",
          "name": "stdout",
          "text": [
            "[array([   0,    1,    2, ..., 6881, 6882, 6883]), array([ 6884,  6885,  6886, ..., 13765, 13766, 13767]), array([13768, 13769, 13770, ..., 20649, 20650, 20651]), array([20652, 20653, 20654, ..., 27533, 27534, 27535]), array([27536, 27537, 27538, ..., 34417, 34418, 34419]), array([34420, 34421, 34422, ..., 41301, 41302, 41303]), array([41304, 41305, 41306, ..., 48185, 48186, 48187]), array([48188, 48189, 48190, ..., 55069, 55070, 55071]), array([55072, 55073, 55074, ..., 61953, 61954, 61955]), array([61956, 61957, 61958, ..., 68837, 68838, 68839]), array([68840, 68841, 68842, ..., 75721, 75722, 75723]), array([75724, 75725, 75726, ..., 82605, 82606, 82607]), array([82608, 82609, 82610, ..., 89489, 89490, 89491]), array([89492, 89493, 89494, ..., 96373, 96374, 96375]), array([ 96376,  96377,  96378, ..., 103257, 103258, 103259]), array([103260, 103261, 103262, ..., 110141, 110142, 110143]), array([110144, 110145, 110146, ..., 117025, 117026, 117027]), array([117028, 117029, 117030, ..., 123909, 123910, 123911]), array([123912, 123913, 123914, ..., 130793, 130794, 130795]), array([130796, 130797, 130798, ..., 137677, 137678, 137679]), array([137680, 137681, 137682, ..., 144561, 144562, 144563]), array([144564, 144565, 144566, ..., 151445, 151446, 151447]), array([151448, 151449, 151450, ..., 158329, 158330, 158331]), array([158332, 158333, 158334, ..., 165213, 165214, 165215]), array([165216, 165217, 165218, ..., 172097, 172098, 172099]), array([172100, 172101, 172102, ..., 178981, 178982, 178983]), array([178984, 178985, 178986, ..., 185865, 185866, 185867]), array([185868, 185869, 185870, ..., 192749, 192750, 192751]), array([192752, 192753, 192754, ..., 199633, 199634, 199635]), array([199636, 199637, 199638, ..., 206517, 206518, 206519]), array([206520, 206521, 206522, ..., 213401, 213402, 213403]), array([213404, 213405, 213406, ..., 220285, 220286, 220287])]\n",
            "[array([   0,    1,    2, ..., 6881, 6882, 6883]), array([ 6884,  6885,  6886, ..., 13765, 13766, 13767]), array([13768, 13769, 13770, ..., 20649, 20650, 20651]), array([20652, 20653, 20654, ..., 27533, 27534, 27535]), array([27536, 27537, 27538, ..., 34417, 34418, 34419]), array([34420, 34421, 34422, ..., 41301, 41302, 41303]), array([41304, 41305, 41306, ..., 48185, 48186, 48187]), array([48188, 48189, 48190, ..., 55069, 55070, 55071]), array([55072, 55073, 55074, ..., 61953, 61954, 61955]), array([61956, 61957, 61958, ..., 68837, 68838, 68839]), array([68840, 68841, 68842, ..., 75721, 75722, 75723]), array([75724, 75725, 75726, ..., 82605, 82606, 82607]), array([82608, 82609, 82610, ..., 89489, 89490, 89491]), array([89492, 89493, 89494, ..., 96373, 96374, 96375]), array([ 96376,  96377,  96378, ..., 103257, 103258, 103259])]\n"
          ]
        }
      ]
    },
    {
      "cell_type": "code",
      "source": [
        "#X and y sets\n",
        "X_train = train_set.drop(['response'], axis = 1)\n",
        "y_train = train_set['response']\n",
        "X_test = test_set.drop(['response'], axis = 1)\n",
        "y_test = test_set['response']"
      ],
      "metadata": {
        "id": "cfctY-rr5zsU"
      },
      "execution_count": null,
      "outputs": []
    },
    {
      "cell_type": "code",
      "source": [
        "X_train.drop(['ME_DT'],axis=1, inplace=True)"
      ],
      "metadata": {
        "id": "Pqy6tuypaZNd"
      },
      "execution_count": null,
      "outputs": []
    },
    {
      "cell_type": "code",
      "source": [
        "X_test.drop(['ME_DT'],axis=1, inplace=True)"
      ],
      "metadata": {
        "id": "RIq2Fc34bu4i"
      },
      "execution_count": null,
      "outputs": []
    },
    {
      "cell_type": "markdown",
      "source": [
        "Since it's a tree based model, we are not going to standardize the features."
      ],
      "metadata": {
        "id": "W-OSZXt3BWu4"
      }
    },
    {
      "cell_type": "markdown",
      "source": [
        "**Training a Random Forest model**"
      ],
      "metadata": {
        "id": "QyvZHtmI8z7s"
      }
    },
    {
      "cell_type": "markdown",
      "source": [
        "I take the best optimized random forest model from previous assignments for monthly features which had a n_estimator =200, max_features=\"sqrt\", max_depth of 15, min_samples_split =20 and ccp_alpha = 0.001. Furthermore we have already established in the previous assignments that the data is not balanced. So I set a class weight of \"balanced\" to my model."
      ],
      "metadata": {
        "id": "aRdtw1m29CXW"
      }
    },
    {
      "cell_type": "code",
      "source": [
        "# Training model on standardized train set\n",
        "estimator = RandomForestClassifier(random_state=42, n_estimators=200, min_samples_split = 20, max_depth = 15, ccp_alpha= 0.001,class_weight=\"balanced\")\n",
        "model_rf = estimator.fit(X_train, y_train)"
      ],
      "metadata": {
        "id": "WMx-OanK35Ak"
      },
      "execution_count": null,
      "outputs": []
    },
    {
      "cell_type": "code",
      "source": [
        "#Accuracy \n",
        "y_pred = model_rf.predict(X_test)\n",
        "accuracy = 100*accuracy_score(y_test, y_pred, normalize = True)\n",
        "print(\"Accuracy of model on test data is:\", accuracy)"
      ],
      "metadata": {
        "colab": {
          "base_uri": "https://localhost:8080/"
        },
        "id": "9N6AyR8vJSp0",
        "outputId": "1a78855a-fee4-4555-fa7c-65ba7ce6f7d4"
      },
      "execution_count": null,
      "outputs": [
        {
          "output_type": "stream",
          "name": "stdout",
          "text": [
            "Accuracy of model on test data is: 41.56013945380593\n"
          ]
        }
      ]
    },
    {
      "cell_type": "markdown",
      "source": [
        "**Identifying 5 top features based on importances**"
      ],
      "metadata": {
        "id": "pyT4EjLi_ICO"
      }
    },
    {
      "cell_type": "code",
      "source": [
        "#importances\n",
        "importances_rf = model_rf.feature_importances_\n",
        "\n",
        "#sorting feature importance indices\n",
        "indices_rf = np.argsort(importances_rf)[::-1]\n",
        "\n",
        "# Rearrange feature names so they match the sorted feature importances\n",
        "feature_names = [X_train.columns[i] for i in indices_rf]\n",
        "\n",
        "#top 5 features\n",
        "top_5_features = feature_names[0:5]"
      ],
      "metadata": {
        "id": "LrUbrLwB_HtL"
      },
      "execution_count": null,
      "outputs": []
    },
    {
      "cell_type": "code",
      "source": [
        "top_5_features #displaying top 5 features"
      ],
      "metadata": {
        "colab": {
          "base_uri": "https://localhost:8080/"
        },
        "id": "UoNEU3yI6Mtt",
        "outputId": "296f612b-5685-4754-843a-e6dbd2896623"
      },
      "execution_count": null,
      "outputs": [
        {
          "output_type": "execute_result",
          "data": {
            "text/plain": [
              "['amt_max_12M', 'amt_mean_12M', 'amt_sum_12M', 'amt_max_6M', 'amt_mean_6M']"
            ]
          },
          "metadata": {},
          "execution_count": 17
        }
      ]
    },
    {
      "cell_type": "markdown",
      "source": [
        "\n",
        "\n",
        "- **Baseline Scores: calculating scores on train data for the model** "
      ],
      "metadata": {
        "id": "gjNsWG3RA05v"
      }
    },
    {
      "cell_type": "code",
      "source": [
        "#baseline scores\n",
        "baseline_scores = model_rf.predict_proba(X_train)[:,1] \n",
        "\n",
        "# We divide by the .max() value to ensure that the upper limit is 1 since it's supposed to be a probability score.\n",
        "baseline_scores = baseline_scores/baseline_scores.max() "
      ],
      "metadata": {
        "id": "ur4oRRNLAg9C"
      },
      "execution_count": null,
      "outputs": []
    },
    {
      "cell_type": "code",
      "source": [
        "#plot for baseline score distribution \n",
        "sns.set(rc={\"figure.figsize\":(14, 12)})\n",
        "ax = sns.histplot(baseline_scores,                \n",
        "                  color='red',\n",
        "                  bins=100)\n",
        "ax.set(xlabel='Baseline Score', ylabel='Frequency')\n",
        "ax.set_title(\"Baseline Score Distribution\")"
      ],
      "metadata": {
        "colab": {
          "base_uri": "https://localhost:8080/",
          "height": 753
        },
        "id": "Cwp1_u_cB0ww",
        "outputId": "86f66924-ee8b-4bba-ac99-1e1d958cce63"
      },
      "execution_count": null,
      "outputs": [
        {
          "output_type": "execute_result",
          "data": {
            "text/plain": [
              "Text(0.5, 1.0, 'Baseline Score Distribution')"
            ]
          },
          "metadata": {},
          "execution_count": 19
        },
        {
          "output_type": "display_data",
          "data": {
            "text/plain": [
              "<Figure size 1008x864 with 1 Axes>"
            ],
            "image/png": "[encoded data removed]"
          },
          "metadata": {}
        }
      ]
    },
    {
      "cell_type": "markdown",
      "source": [
        "So we note that the above is our baseline score distribution."
      ],
      "metadata": {
        "id": "SnCsA0slCKTu"
      }
    },
    {
      "cell_type": "markdown",
      "source": [
        "**- Production Scores: calulating scores of test data on model**"
      ],
      "metadata": {
        "id": "_W9XC7hKF0JA"
      }
    },
    {
      "cell_type": "code",
      "source": [
        "#production scores\n",
        "production_scores = model_rf.predict_proba(X_test)[:,1] \n",
        "\n",
        "# We divide by the .max() value to ensure that the upper limit is 1 since it's supposed to be a probability score.\n",
        "production_scores = production_scores/production_scores.max() "
      ],
      "metadata": {
        "id": "k0coeShCDixr"
      },
      "execution_count": null,
      "outputs": []
    },
    {
      "cell_type": "code",
      "source": [
        "#plot for production score distribution \n",
        "plt.rcParams[\"figure.figsize\"] = [20, 18]\n",
        "f, ax = plt.subplots(1, 2)\n",
        "sns.histplot(baseline_scores,                \n",
        "                  color='red',\n",
        "                  bins=100, ax = ax[0])\n",
        "\n",
        "sns.histplot(production_scores,                \n",
        "                  color='blue',\n",
        "                  bins=100, ax= ax[1])\n",
        "\n",
        "ax[0].set(xlabel='Baseline Score', ylabel='Frequency')\n",
        "ax[0].set_title(\"Baseline Score Distribution\")\n",
        "ax[1].set(xlabel='Production Score', ylabel='Frequency')\n",
        "ax[1].set_title(\"Production Score Distribution\")"
      ],
      "metadata": {
        "colab": {
          "base_uri": "https://localhost:8080/",
          "height": 1000
        },
        "id": "6gCib9A-HqLn",
        "outputId": "f94d1eab-31ce-49b1-e0f0-031ea8d6fa70"
      },
      "execution_count": null,
      "outputs": [
        {
          "output_type": "execute_result",
          "data": {
            "text/plain": [
              "Text(0.5, 1.0, 'Production Score Distribution')"
            ]
          },
          "metadata": {},
          "execution_count": 21
        },
        {
          "output_type": "display_data",
          "data": {
            "text/plain": [
              "<Figure size 1440x1296 with 2 Axes>"
            ],
            "image/png": "[encoded data removed]"
          },
          "metadata": {}
        }
      ]
    },
    {
      "cell_type": "markdown",
      "source": [
        "By comparing distribution of both, there are drastic drift in the score frequency order in y-axis even though the nature of the distribution is similar. Furthermore, we observe that the distribution nature also changes from the scores between 0.6 to 0.8."
      ],
      "metadata": {
        "id": "bJLuJMAJtHUe"
      }
    },
    {
      "cell_type": "markdown",
      "source": [
        "**Part-a: Jensen-Shannon divergence metric for monthly scores**"
      ],
      "metadata": {
        "id": "E1acc8x2cI5A"
      }
    },
    {
      "cell_type": "code",
      "source": [
        "#Creating new test set : storing the production scores corresponsing to each unique date\n",
        "test_set_ms = test_set[:]\n",
        "test_set_ms[\"target scores\"] = production_scores\n"
      ],
      "metadata": {
        "id": "zACqKfJ5dKQU"
      },
      "execution_count": null,
      "outputs": []
    },
    {
      "cell_type": "markdown",
      "source": [
        "- Calculating left probability vector p"
      ],
      "metadata": {
        "id": "UFkq--poCP1Q"
      }
    },
    {
      "cell_type": "code",
      "source": [
        "#Ensuring every bin has approximately 10% of the population \n",
        "bin_edges = np.quantile(baseline_scores, np.arange(0, 1.1, 0.1))\n",
        "bin_edges[0]=0 # We replace the first element with zero since it's the lower cap\n",
        "p = np.histogram(baseline_scores, bin_edges)\n",
        "p\n",
        "\n"
      ],
      "metadata": {
        "colab": {
          "base_uri": "https://localhost:8080/"
        },
        "id": "4_u3KR9XCOaY",
        "outputId": "990048c0-5801-4d0d-d883-c5a005283da7"
      },
      "execution_count": null,
      "outputs": [
        {
          "output_type": "execute_result",
          "data": {
            "text/plain": [
              "(array([21980, 22076, 22031, 22028, 21793, 22263, 16227, 25659, 18097,\n",
              "        28134]),\n",
              " array([0.        , 0.56658214, 0.68762709, 0.73022996, 0.9175505 ,\n",
              "        0.93863296, 0.97230503, 0.97863824, 0.99369814, 0.99784915,\n",
              "        1.        ]))"
            ]
          },
          "metadata": {},
          "execution_count": 23
        }
      ]
    },
    {
      "cell_type": "markdown",
      "source": [
        "- Calculating right probabilty vector q and JS divergence"
      ],
      "metadata": {
        "id": "r_sV67z8ggmk"
      }
    },
    {
      "cell_type": "code",
      "source": [
        "#monthly js divergence score for monthly scores\n",
        "js_monthlyscores = []\n",
        "target_scores = []\n",
        "for i in test_unique_dates:\n",
        "  target_scores.append(test_set_ms[test_set_ms.ME_DT==i]['target scores'].values)\n",
        "  q_ms = np.histogram(target_scores, bin_edges)\n",
        "  js_monthlyscores.append(distance.jensenshannon(p[0],q_ms[0],2.0))\n"
      ],
      "metadata": {
        "id": "_eJTDd7pZY8Z"
      },
      "execution_count": null,
      "outputs": []
    },
    {
      "cell_type": "markdown",
      "source": [
        "**Part-b: Jensen-Shannon divergence metric for the monthly top 5 features of the model**"
      ],
      "metadata": {
        "id": "DY0Ve-s4g51b"
      }
    },
    {
      "cell_type": "code",
      "source": [
        "#defining function to calculate JS divergence for each feature\n",
        "\n",
        "def drift(feature):\n",
        "\n",
        "  #baseline\n",
        "  baseline_score_top5 = X_train[feature].values\n",
        "  baseline_score_top5 = baseline_score_top5/baseline_score_top5.max()\n",
        "\n",
        "  bin_edge_new = np.linspace(min(baseline_score_top5), max(baseline_score_top5), 20)\n",
        "  bin_edge_2 = np.r_[-np.inf, bin_edge_new , np.inf]\n",
        "  p_2 = np.histogram( baseline_score_top5, bin_edge_2)\n",
        "\n",
        "  #drift calculations\n",
        "  js_scores = []\n",
        "  for i in test_unique_dates:\n",
        "    #production/target\n",
        "    target_score_top5 = test_set[test_set['ME_DT']== i][feature].values\n",
        "    target_score_top5 = target_score_top5/target_score_top5.max()\n",
        "    q_2 = np.histogram(target_score_top5, bin_edge_2)\n",
        "    js_scores.append(distance.jensenshannon(p_2[0], q_2[0], 2.0))\n",
        "\n",
        "  return js_scores\n",
        "\n"
      ],
      "metadata": {
        "id": "isLfwHUbuwnE"
      },
      "execution_count": null,
      "outputs": []
    },
    {
      "cell_type": "code",
      "source": [
        "js_topfive_scores=[]\n",
        "for features in top_5_features:\n",
        "  js_topfive_scores.append(drift(features))"
      ],
      "metadata": {
        "id": "Ty2f4N4nyytl"
      },
      "execution_count": null,
      "outputs": []
    },
    {
      "cell_type": "code",
      "source": [
        "plt.figure(figsize=(20,10))\n",
        "plt.plot(test_unique_dates, js_monthlyscores, '-o', label = 'Monthly Scores')\n",
        "plt.plot(test_unique_dates, js_topfive_scores[0], '-v', label = 'Feature - amt_max_12M')\n",
        "plt.plot(test_unique_dates, js_topfive_scores[1], '-s', label = 'Feature - amt_mean_12M')\n",
        "plt.plot(test_unique_dates, js_topfive_scores[2], '-p', label = 'Feature - amt_sum_12M')\n",
        "plt.plot(test_unique_dates, js_topfive_scores[3], '-x', label = 'Feature - amt_max_6M')\n",
        "plt.plot(test_unique_dates, js_topfive_scores[4], '-d', label = 'Feature - amt_sum_6M')\n",
        "plt.legend()\n",
        "plt.xlabel('Time')\n",
        "plt.ylabel('Jensen-Shannon Divergence Value')\n",
        "plt.title('Divergence from baseline (prior to Dec-2013) distribution')\n",
        "plt.show()"
      ],
      "metadata": {
        "colab": {
          "base_uri": "https://localhost:8080/",
          "height": 627
        },
        "id": "oZ0LrGwjty2F",
        "outputId": "a8c84d02-a155-43f4-c055-e94bc39a5466"
      },
      "execution_count": null,
      "outputs": [
        {
          "output_type": "display_data",
          "data": {
            "text/plain": [
              "<Figure size 1440x720 with 1 Axes>"
            ],
            "image/png": "[encoded data removed]"
          },
          "metadata": {}
        }
      ]
    },
    {
      "cell_type": "markdown",
      "source": [
        "By comparing the Jensen-Shannon divergence metric we are capturing the difference in the distribution of each of these variables from our baseline distribution.\n",
        "\n",
        "\n",
        "From the above plot we see there's a drift for the overall monthly scores. When we futher dissect the rootcause and check for the top 5 features that are important predictors of our model, we see significantly large drifts from baseline. \n",
        "\n",
        "Let's discuss each of the top 5 features behaviour in detail.\n",
        "\n",
        "we see for all the top 5 features the drift is greater than 0.2 for almost through out the production years.\n",
        "\n",
        "We see that the features \"amt_max_12M\" and \"amt_max_6M\" show the maximum divergence from baseline of about 0.35 to 0.5. Hence these two features have the highest contribution to the change. However, they reached to 0 on March 2015 and discontinued from changing.\n",
        "\n",
        "For features \"amt_sum_12M\" and \"amt_mean_12M\", the plots overlapped indicating they have a completely same drift from the baseline distribution over time which increased over time till almost 0.7.\n",
        "\n",
        "For feature \"amt_sum_6M\", it is noteworthy here that the drift almost reached to 0 during May 2014 and September 2014. But it was not consistent and continued to contribute to the changes in the rest of the production years by increasing the drift beyond 0.6.\n",
        "\n",
        "The contribution from all these 5 features affected the overall monthly scores of the model which is captured in the plot. But since the drift is below 0.2, we can consider it to be safe.\n",
        "\n"
      ],
      "metadata": {
        "id": "JPzPLluBzSAs"
      }
    }
  ]
}